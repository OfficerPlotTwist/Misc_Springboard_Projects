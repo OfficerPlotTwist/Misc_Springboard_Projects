{
 "cells": [
  {
   "cell_type": "markdown",
   "metadata": {},
   "source": [
    "This exercise will require you to pull some data from the Qunadl API. Qaundl is currently the most widely used aggregator of financial market data."
   ]
  },
  {
   "cell_type": "markdown",
   "metadata": {},
   "source": [
    "As a first step, you will need to register a free account on the http://www.quandl.com website."
   ]
  },
  {
   "cell_type": "markdown",
   "metadata": {},
   "source": [
    "After you register, you will be provided with a unique API key, that you should store:"
   ]
  },
  {
   "cell_type": "code",
   "execution_count": 1,
   "metadata": {},
   "outputs": [],
   "source": [
    "# Store the API key as a string - according to PEP8, constants are always named in all upper case\n",
    "API_KEY = 'jzS42PbiPWXGRsZzKCxQ'"
   ]
  },
  {
   "cell_type": "markdown",
   "metadata": {},
   "source": [
    "Qaundl has a large number of data sources, but, unfortunately, most of them require a Premium subscription. Still, there are also a good number of free datasets."
   ]
  },
  {
   "cell_type": "markdown",
   "metadata": {},
   "source": [
    "For this mini project, we will focus on equities data from the Frankfurt Stock Exhange (FSE), which is available for free. We'll try and analyze the stock prices of a company called Carl Zeiss Meditec, which manufactures tools for eye examinations, as well as medical lasers for laser eye surgery: https://www.zeiss.com/meditec/int/home.html. The company is listed under the stock ticker AFX_X."
   ]
  },
  {
   "cell_type": "markdown",
   "metadata": {},
   "source": [
    "You can find the detailed Quandl API instructions here: https://docs.quandl.com/docs/time-series"
   ]
  },
  {
   "cell_type": "markdown",
   "metadata": {},
   "source": [
    "While there is a dedicated Python package for connecting to the Quandl API, we would prefer that you use the *requests* package, which can be easily downloaded using *pip* or *conda*. You can find the documentation for the package here: http://docs.python-requests.org/en/master/ "
   ]
  },
  {
   "cell_type": "markdown",
   "metadata": {},
   "source": [
    "Finally, apart from the *requests* package, you are encouraged to not use any third party Python packages, such as *pandas*, and instead focus on what's available in the Python Standard Library (the *collections* module might come in handy: https://pymotw.com/3/collections/ ).\n",
    "Also, since you won't have access to DataFrames, you are encouraged to us Python's native data structures - preferably dictionaries, though some questions can also be answered using lists.\n",
    "You can read more on these data structures here: https://docs.python.org/3/tutorial/datastructures.html"
   ]
  },
  {
   "cell_type": "markdown",
   "metadata": {},
   "source": [
    "Keep in mind that the JSON responses you will be getting from the API map almost one-to-one to Python's dictionaries. Unfortunately, they can be very nested, so make sure you read up on indexing dictionaries in the documentation provided above."
   ]
  },
  {
   "cell_type": "code",
   "execution_count": 19,
   "metadata": {},
   "outputs": [],
   "source": [
    "# First, import the relevant modules\n",
    "import json\n",
    "import requests\n",
    "import collections\n",
    "import math\n",
    "\n"
   ]
  },
  {
   "cell_type": "code",
   "execution_count": 4,
   "metadata": {},
   "outputs": [
    {
     "name": "stdout",
     "output_type": "stream",
     "text": [
      "dict_keys(['limit', 'transform', 'column_index', 'column_names', 'start_date', 'end_date', 'frequency', 'data', 'collapse', 'order'])\n",
      "[['2020-08-03', 89.0, 90.5, 88.2, 90.0, None, 95661.0, 8591521.9, None, None, None]]\n",
      "limit:1\n",
      "transform:None\n",
      "column_index:None\n",
      "column_names:['Date', 'Open', 'High', 'Low', 'Close', 'Change', 'Traded Volume', 'Turnover', 'Last Price of the Day', 'Daily Traded Units', 'Daily Turnover']\n",
      "start_date:2000-06-07\n",
      "end_date:2020-08-03\n",
      "frequency:daily\n",
      "data:[['2020-08-03', 89.0, 90.5, 88.2, 90.0, None, 95661.0, 8591521.9, None, None, None]]\n",
      "collapse:None\n",
      "order:desc\n"
     ]
    }
   ],
   "source": [
    "# Now, call the Quandl API and pull out a small sample of the data (only one day) to get a glimpse\n",
    "# into the JSON structure that will be returned\n",
    "r = requests.get(f\"https://www.quandl.com/api/v3/datasets/FSE/AFX_X/data.json?rows=1&order=desc&api_key={API_KEY}\") \n",
    "json_data= r.json()\n",
    "print(json_data['dataset_data'].keys())\n",
    "print(json_data['dataset_data']['data'])\n",
    "for key in json_data['dataset_data']:\n",
    "    print(key + ':' + str(json_data['dataset_data'][key]))"
   ]
  },
  {
   "cell_type": "code",
   "execution_count": 5,
   "metadata": {},
   "outputs": [],
   "source": [
    "# Inspect the JSON structure of the object you created, and take note of how nested it is,\n",
    "# as well as the overall structure\n",
    "#only 2 keys deep\n"
   ]
  },
  {
   "cell_type": "markdown",
   "metadata": {},
   "source": [
    "These are your tasks for this mini project:\n",
    "\n",
    "1. Collect data from the Franfurt Stock Exchange, for the ticker AFX_X, for the whole year 2017 (keep in mind that the date format is YYYY-MM-DD).\n",
    "2. Convert the returned JSON object into a Python dictionary.\n",
    "3. Calculate what the highest and lowest opening prices were for the stock in this period.\n",
    "4. What was the largest change in any one day (based on High and Low price)?\n",
    "5. What was the largest change between any two days (based on Closing Price)?\n",
    "6. What was the average daily trading volume during this year?\n",
    "7. (Optional) What was the median trading volume during this year. (Note: you may need to implement your own function for calculating the median.)"
   ]
  },
  {
   "cell_type": "code",
   "execution_count": 60,
   "metadata": {},
   "outputs": [
    {
     "name": "stdout",
     "output_type": "stream",
     "text": [
      "Max Open: $53.11\n",
      "Min Open: $34.0\n",
      "Biggest Daily Change: $2.8100000000000023\n",
      "Largest Daily closing decrease: -2.559999999999995\n",
      "Largest Daily closing increase: 1.7199999999999989\n",
      "Average daily Volume: 89124\n"
     ]
    }
   ],
   "source": [
    "r = requests.get(f\"https://www.quandl.com/api/v3/datasets/FSE/AFX_X/data.json?start_date='2017-01-01'&end_date='2018-01-01'&order=asc&api_key={API_KEY}\")\n",
    "json_data= r.json()\n",
    "\n",
    "AFX_X_2017_stockvalue= {}\n",
    "AFX_Dateless=[]\n",
    "#Dict[date] = (Open, High, Low, Close) \n",
    "for date in json_data['dataset_data']['data']:\n",
    "    AFX_X_2017_stockvalue[date[0]]= [date[1], date[2], date[3], date[4]]\n",
    "    AFX_Dateless.append([date[1], date[2], date[3], date[4]])\n",
    "\n",
    "opening_values=[]\n",
    "for day, stockvalue in AFX_X_2017_stockvalue.items():\n",
    "    if type(stockvalue[0])==float:\n",
    "        opening_values.append(stockvalue[0])\n",
    "print('Max Open: $' + str(max(opening_values)))\n",
    "print('Min Open: $' + str(min(opening_values)))\n",
    "\n",
    "daily_extreme_diff = []\n",
    "for day, stockvalue in AFX_X_2017_stockvalue.items():\n",
    "    if type(stockvalue[1])==float and type(stockvalue[2])==float:\n",
    "        daily_extreme_diff.append(stockvalue[1]-stockvalue[2])\n",
    "\n",
    "print('Biggest Daily Change: $' + str(max(daily_extreme_diff)))\n",
    "closing_values = [x[3] for x in AFX_Dateless]\n",
    "change_to_closing = [x - closing_values[i - 1] for i, x in enumerate(closing_values)][1:]\n",
    "print('Largest Daily closing decrease: ' + str(min(change_to_closing)))\n",
    "print('Largest Daily closing increase: ' + str(max(change_to_closing)))\n",
    "\n",
    "trading_volume = [x[6] for x in json_data['dataset_data']['data']]\n",
    "print(\"Average daily Volume: \" + str(math.trunc(sum(trading_volume) / len(trading_volume))))\n",
    "trading_volume= trading_volume.sort()\n",
    "\n",
    "\n"
   ]
  },
  {
   "cell_type": "code",
   "execution_count": null,
   "metadata": {},
   "outputs": [],
   "source": []
  }
 ],
 "metadata": {
  "kernelspec": {
   "display_name": "Python 3",
   "language": "python",
   "name": "python3"
  },
  "language_info": {
   "codemirror_mode": {
    "name": "ipython",
    "version": 3
   },
   "file_extension": ".py",
   "mimetype": "text/x-python",
   "name": "python",
   "nbconvert_exporter": "python",
   "pygments_lexer": "ipython3",
   "version": "3.7.6"
  }
 },
 "nbformat": 4,
 "nbformat_minor": 2
}
